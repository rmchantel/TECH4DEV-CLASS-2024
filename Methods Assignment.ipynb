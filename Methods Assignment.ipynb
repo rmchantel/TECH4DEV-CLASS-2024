{
 "cells": [
  {
   "cell_type": "markdown",
   "id": "f8faad29",
   "metadata": {},
   "source": [
    "### Check 20 methods of list, tuples and dictionaries "
   ]
  },
  {
   "cell_type": "code",
   "execution_count": 15,
   "id": "c16f233c",
   "metadata": {},
   "outputs": [
    {
     "name": "stdout",
     "output_type": "stream",
     "text": [
      "0\n",
      "[1, 2, 2, 5, 5, 8, 9]\n",
      "[2, 5, 9, 1, 8, 2, 5]\n",
      "2\n",
      "['apple', 'banana', 'pineapple', 'pear', 'orange']\n",
      "['apple', 'banana', 'pineapple', 'pear', 'orange', 'kiwi']\n",
      "['apple', 'orange', 'banana', 'pineapple', 'pear']\n",
      "banana\n",
      "['apple', 'orange', 'pineapple', 'pear']\n",
      "['apple', 'orange', 'pineapple', 'pear', 'banana']\n"
     ]
    }
   ],
   "source": [
    "#List Methods\n",
    "\n",
    "#sort() - Sorts the elements of a list in ascending order.\n",
    "\n",
    "numbers = [5, 2, 8, 1, 9, 5, 2]\n",
    "numbers.sort()\n",
    "print(numbers)\n",
    "\n",
    "#reverse() - Reverses the order of elements in a list.\n",
    "\n",
    "numbers = [5, 2, 8, 1, 9, 5, 2]\n",
    "numbers.reverse()\n",
    "print(numbers)\n",
    "\n",
    "#append() - Adds an element to the end of a list.\n",
    "\n",
    "fruits = ['apple', 'banana', 'pineapple', 'pear']\n",
    "fruits.append('orange')\n",
    "print(fruits)\n",
    "\n",
    "#extend() - Extends a list by appending elements from another list.\n",
    "\n",
    "fruits = ['apple', 'banana','pineapple', 'pear']\n",
    "more_fruits = ['orange', 'kiwi']\n",
    "fruits.extend(more_fruits)\n",
    "print(fruits) \n",
    "\n",
    "#insert() - Inserts an element at a specific index in a list.\n",
    "\n",
    "fruits = ['apple', 'banana','pineapple', 'pear']\n",
    "fruits.insert(1, 'orange')\n",
    "print(fruits)\n",
    "\n",
    "#pop() - Removes and returns the element at a specific index in a list.\n",
    "\n",
    "fruits = ['apple', 'banana', 'orange','pineapple','pear']\n",
    "removed_fruit = fruits.pop(1)\n",
    "print(removed_fruit) \n",
    "print(fruits)\n",
    "\n",
    "#remove() - Removes the first occurrence of a specified element from a list.\n",
    "\n",
    "fruits = ['apple', 'banana', 'orange', 'pineapple','pear','banana']\n",
    "fruits.remove('banana')\n",
    "print(fruits) \n",
    "\n",
    "\n"
   ]
  },
  {
   "cell_type": "code",
   "execution_count": 20,
   "id": "e11494df",
   "metadata": {},
   "outputs": [
    {
     "name": "stdout",
     "output_type": "stream",
     "text": [
      "0\n",
      "2\n",
      "7\n"
     ]
    }
   ],
   "source": [
    "#Tuple Methods\n",
    "\n",
    "#index - Returns the index of the first occurrence of a value.\n",
    "t_elements = (5, 2, 8, 5, 'a', 'b','c' )\n",
    "index = t_elements.index(5)\n",
    "print(index)\n",
    "\n",
    "#count() - Returns the number of occurrences of a value.\n",
    "t_elements = (5, 2, 8, 5, 'a', 'b', 'c')\n",
    "count = t_elements.count(5)\n",
    "print(count)\n",
    "\n",
    "#len() - Returns (finds) the length of the elements in a tuple\n",
    "t_elements = (5, 2, 8, 5, 'a', 'b', 'c')\n",
    "length =len(t_elements)\n",
    "print(length)\n"
   ]
  },
  {
   "cell_type": "code",
   "execution_count": 29,
   "id": "00b39e95",
   "metadata": {},
   "outputs": [
    {
     "name": "stdout",
     "output_type": "stream",
     "text": [
      "dict_keys(['name', 'age', 'grade'])\n",
      "dict_values(['Praise', 24, 'A'])\n",
      "dict_items([('name', 'Praise'), ('age', 24), ('grade', 'A')])\n",
      "24\n",
      "Praise\n",
      "{'age': 24, 'grade': 'A'}\n",
      "{'name': 'Praise', 'age': 24}\n",
      "{'name': 'Praise'}\n",
      "{'name': 'Rue', 'age': 24, 'grade': 'A', 'Country': 'Zimbabwe'}\n"
     ]
    }
   ],
   "source": [
    "#Methods for Dictionaries\n",
    "\n",
    "#keys() - Returns a list of all the keys in a dictionary.\n",
    "\n",
    "student = {'name': 'Praise', 'age': 24, 'grade': 'A'}\n",
    "keys = student.keys()\n",
    "print(keys)\n",
    "\n",
    "#values() - Returns a list of all the values in a dictionary.\n",
    "\n",
    "student = {'name': 'Praise', 'age': 24, 'grade': 'A'}\n",
    "values = student.values()\n",
    "print(values) \n",
    "\n",
    "#items() - Returns a list of all the key-value pairs in a dictionary.\n",
    "\n",
    "student = {'name': 'Praise', 'age': 24, 'grade': 'A'}\n",
    "items = student.items()\n",
    "print(items)\n",
    "\n",
    "#get() - Returns the value associated with a specified key in a dictionary.\n",
    "\n",
    "student = {'name': 'Praise', 'age': 24, 'grade': 'A'}\n",
    "age = student.get('age')\n",
    "print(age)\n",
    "\n",
    "\n",
    "#pop() - Removes the item with the specified key and returns its value.\n",
    "\n",
    "student = {'name': 'Praise', 'age': 24, 'grade': 'A'}\n",
    "name = student.pop('name')\n",
    "print(name) \n",
    "print(student) \n",
    "\n",
    "#popitem() - eliminates and returns a random (key, value) pair from the dictionary without requiring a key to specified\n",
    "\n",
    "student = {'name': 'Praise', 'age': 24, 'grade': 'A'}\n",
    "student.popitem() \n",
    "print(student) \n",
    "  \n",
    "student.popitem() \n",
    "print(student)\n",
    "\n",
    "#update() - Updates the dictionary with key-value pairs from another dictionary or iterable.\n",
    "\n",
    "student = {'name': 'Praise', 'age': 24, 'grade': 'A'}\n",
    "student.update({'name': 'Rue', 'Country': 'Zimbabwe'})\n",
    "print(student)\n"
   ]
  },
  {
   "cell_type": "code",
   "execution_count": null,
   "id": "8723cd7f",
   "metadata": {},
   "outputs": [],
   "source": []
  }
 ],
 "metadata": {
  "kernelspec": {
   "display_name": "Python 3 (ipykernel)",
   "language": "python",
   "name": "python3"
  },
  "language_info": {
   "codemirror_mode": {
    "name": "ipython",
    "version": 3
   },
   "file_extension": ".py",
   "mimetype": "text/x-python",
   "name": "python",
   "nbconvert_exporter": "python",
   "pygments_lexer": "ipython3",
   "version": "3.11.5"
  }
 },
 "nbformat": 4,
 "nbformat_minor": 5
}
