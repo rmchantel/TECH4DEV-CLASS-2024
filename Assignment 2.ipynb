{
 "cells": [
  {
   "cell_type": "code",
   "execution_count": 3,
   "id": "5a40027e",
   "metadata": {},
   "outputs": [
    {
     "name": "stdout",
     "output_type": "stream",
     "text": [
      "The maximum value in list is: 23\n"
     ]
    }
   ],
   "source": [
    "#Question1\n",
    "\n",
    "list1= [2, 4, 7, 4, 23, 5, 1, 4, 8, 9, 2]\n",
    "print(\"The maximum value in list is:\", max(list1))"
   ]
  },
  {
   "cell_type": "code",
   "execution_count": 5,
   "id": "43bfa319",
   "metadata": {},
   "outputs": [
    {
     "name": "stdout",
     "output_type": "stream",
     "text": [
      "The average value of the list is: 24.6\n"
     ]
    }
   ],
   "source": [
    "#Question2\n",
    "\n",
    "list2 = [4, 7, 1, 5, 11, 53, 12, 46, 84, 23]\n",
    "avg = sum(list2) / len(list2)\n",
    "print(\"The average value of the list is:\", avg)\n"
   ]
  },
  {
   "cell_type": "code",
   "execution_count": 1,
   "id": "e34cfe39",
   "metadata": {},
   "outputs": [
    {
     "name": "stdout",
     "output_type": "stream",
     "text": [
      "[5, 89, 45, 14, 53, 23, 45, 7, 6, 2]\n"
     ]
    }
   ],
   "source": [
    "#Question3 (List of integers in reverse order)\n",
    "\n",
    "num_list = [2, 6, 7, 45, 23, 53, 14, 45, 89, 5]\n",
    "\n",
    "#Finding the reverse of given list\n",
    "num_list.reverse()\n",
    "print(num_list)"
   ]
  },
  {
   "cell_type": "code",
   "execution_count": 6,
   "id": "2ea7e8d8",
   "metadata": {},
   "outputs": [
    {
     "name": "stdout",
     "output_type": "stream",
     "text": [
      "False\n",
      "False\n",
      "False\n",
      "False\n",
      "False\n",
      "True\n"
     ]
    }
   ],
   "source": [
    "#Question4\n",
    "\n",
    "def comparelist(array1,array2):\n",
    "    array1.sort()\n",
    "    array2.sort()\n",
    "    \n",
    "    if (array1 == array2):\n",
    "        print(\"True\")\n",
    "        \n",
    "    else: \n",
    "            print(\"False\")\n",
    "    \n",
    "    for i in range(len(array1)):\n",
    "        if array1[i] >= array2[i]:\n",
    "            print(\"False\")\n",
    "    \n",
    "    print(\"True\")\n",
    "    \n",
    "array1 = [2,8,5,10,13,18,6]\n",
    "array2 = [3,5,16,8,11,7,13]\n",
    "comparelist(array1,array2)\n"
   ]
  },
  {
   "cell_type": "code",
   "execution_count": 13,
   "id": "3f6af6f5",
   "metadata": {},
   "outputs": [
    {
     "name": "stdout",
     "output_type": "stream",
     "text": [
      "[24, 38, 10, 72, 56, 63, 100]\n"
     ]
    }
   ],
   "source": [
    "#Question5\n",
    "\n",
    "def swap_positions(list, index1, index2):\n",
    "    \n",
    "    list[index1], list[index2] = list [index2], list [index1]\n",
    "    return list\n",
    "\n",
    "List = [24, 56, 10, 72, 38, 63, 100]\n",
    "index1, index2 = 2, 5\n",
    "print(swap_positions(List,index1-1,index2-1))\n"
   ]
  },
  {
   "cell_type": "code",
   "execution_count": 1,
   "id": "ff4e565d",
   "metadata": {},
   "outputs": [
    {
     "name": "stdout",
     "output_type": "stream",
     "text": [
      "Enter first list: [5,10,15,20]\n",
      "Enter second list: [6,12,18,24,30]\n",
      "Joined List: [5, 10, 15, 20, 6, 12, 18, 24, 30]\n"
     ]
    }
   ],
   "source": [
    "#Question6\n",
    "\n",
    "List1 = eval(input(\"Enter first list: \"))\n",
    "List2 = eval(input(\"Enter second list: \"))\n",
    "List3 = List1 + List2\n",
    "print(\"Joined List:\", l3)"
   ]
  },
  {
   "cell_type": "code",
   "execution_count": 10,
   "id": "23a66069",
   "metadata": {},
   "outputs": [
    {
     "name": "stdout",
     "output_type": "stream",
     "text": [
      "Enter number of elements :7\n",
      "74\n",
      "85\n",
      "102\n",
      "99\n",
      "101\n",
      "85\n",
      "56\n",
      "[74, 85, 102, 99, 101, 85, 56]\n",
      "Last index of 85 in the list: 5\n"
     ]
    }
   ],
   "source": [
    "#Question7\n",
    "\n",
    "listin = []\n",
    "\n",
    "n = int(input(\"Enter number of elements :\"))\n",
    "\n",
    "for i in range (0, n):\n",
    "    element = int(input())\n",
    "    \n",
    "    listin.append(element)\n",
    "\n",
    "\n",
    "\n",
    "def last_value(listin, value):\n",
    "    try:\n",
    "        last_index = len(listin) - 1 - listin[::-1].index(value)\n",
    "        return last_index\n",
    "    except ValueError:\n",
    "        return -1\n",
    "\n",
    "print(listin)\n",
    "search_value = listin[5]\n",
    "\n",
    "result = last_value(listin, search_value)\n",
    "\n",
    "    \n",
    "print(f\"Last index of {search_value} in the list: {result}\")"
   ]
  },
  {
   "cell_type": "code",
   "execution_count": 14,
   "id": "b7cf4aa6",
   "metadata": {},
   "outputs": [
    {
     "name": "stdout",
     "output_type": "stream",
     "text": [
      "Enter the list:[36, 12, 25, 19, 46, 31, 22]\n",
      "The range of values in the list is: 35\n"
     ]
    }
   ],
   "source": [
    "#Question8\n",
    "\n",
    "def range_cal(list8):\n",
    "    \n",
    "   \n",
    "    \n",
    "    max_value = max(list8)\n",
    "    min_value = min(list8)\n",
    "\n",
    "    # Calculate the range\n",
    "    value_range = max_value - min_value + 1\n",
    "\n",
    "    return value_range\n",
    "\n",
    "\n",
    "list8 = eval(input(\"Enter the list:\"))\n",
    "result = range_cal(list8)\n",
    "\n",
    "print(f\"The range of values in the list is: {result}\")"
   ]
  },
  {
   "cell_type": "code",
   "execution_count": 22,
   "id": "277ade7b",
   "metadata": {},
   "outputs": [
    {
     "name": "stdout",
     "output_type": "stream",
     "text": [
      "There are 4 elements between 4 and 17 (inclusive).\n"
     ]
    }
   ],
   "source": [
    "#Question9\n",
    "\n",
    "def list_count(list9, min_value, max_value):\n",
    "\n",
    "    count = 0\n",
    "\n",
    "    \n",
    "    for x in list9:\n",
    "        if min_value <= x <= max_value:\n",
    "            count += 1\n",
    "\n",
    "    # Print the count  between min_value and max_value\n",
    "    print(f\"There are {count} elements between {min_value} and {max_value} (inclusive).\")\n",
    "\n",
    "#Example list\n",
    "\n",
    "list9 = [14, 1, 22, 17, 36, 7, -43, 5]\n",
    "minimum_value = 4\n",
    "maximum_value = 17\n",
    "\n",
    "list_count(list9, minimum_value, maximum_value)\n"
   ]
  },
  {
   "cell_type": "code",
   "execution_count": 35,
   "id": "ba20c3ec",
   "metadata": {},
   "outputs": [
    {
     "name": "stdout",
     "output_type": "stream",
     "text": [
      "Enter the first list of real numbers separated by spaces: 1 2 3 4 5 \n",
      "Enter the second list of real numbers separated by spaces: 50 40 20 16 27\n",
      "List 1 is in sorted order: True\n",
      "List 2 is in sorted order: False\n"
     ]
    }
   ],
   "source": [
    "#Question10\n",
    "\n",
    "def prog_sort(nums):\n",
    "    # Check if the list is in sorted order\n",
    "    for i in range(1, len(nums)):\n",
    "        if nums[i - 1] > nums[i]:\n",
    "            return False\n",
    "    return True\n",
    "\n",
    "def check_lists(lista, listb):\n",
    "    # Check and print the result for list1\n",
    "    res_list1 = prog_sort(lista)\n",
    "    print(\"List 1 is in sorted order:\", res_list1)\n",
    "\n",
    "    # Check and print the result for list2\n",
    "    res_list2 = prog_sort(listb)\n",
    "    print(\"List 2 is in sorted order:\", res_list2)\n",
    "\n",
    "\n",
    "input_list1 = input(\"Enter the first list of real numbers separated by spaces: \")\n",
    "lista = [float(x) for x in input_list1.split()]\n",
    "\n",
    "input_list2 = input(\"Enter the second list of real numbers separated by spaces: \")\n",
    "listb = [float(x) for x in input_list2.split()]\n",
    "\n",
    "check_lists(lista,listb)"
   ]
  },
  {
   "cell_type": "code",
   "execution_count": null,
   "id": "7f48eebd",
   "metadata": {},
   "outputs": [],
   "source": []
  }
 ],
 "metadata": {
  "kernelspec": {
   "display_name": "Python 3 (ipykernel)",
   "language": "python",
   "name": "python3"
  },
  "language_info": {
   "codemirror_mode": {
    "name": "ipython",
    "version": 3
   },
   "file_extension": ".py",
   "mimetype": "text/x-python",
   "name": "python",
   "nbconvert_exporter": "python",
   "pygments_lexer": "ipython3",
   "version": "3.11.5"
  }
 },
 "nbformat": 4,
 "nbformat_minor": 5
}
