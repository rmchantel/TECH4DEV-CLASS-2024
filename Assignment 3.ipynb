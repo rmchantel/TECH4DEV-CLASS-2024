{
 "cells": [
  {
   "cell_type": "markdown",
   "id": "20fd905b",
   "metadata": {},
   "source": [
    "## Assignment 3\n"
   ]
  },
  {
   "cell_type": "code",
   "execution_count": 1,
   "id": "6ff864cb",
   "metadata": {},
   "outputs": [
    {
     "name": "stdout",
     "output_type": "stream",
     "text": [
      "+----+\n",
      "\\ /\n",
      "/ \\\n",
      "\\ /\n",
      "/ \\\n",
      "\\ /\n",
      "/ \\\n",
      "+----+\n"
     ]
    }
   ],
   "source": [
    "#Question1\n",
    "\n",
    "print(\"+----+\")\n",
    "for i in range(3):\n",
    "    print(\"\\\\ /\")\n",
    "    print(\"/ \\\\\")\n",
    "print(\"+----+\")"
   ]
  },
  {
   "cell_type": "code",
   "execution_count": 2,
   "id": "742a98fc",
   "metadata": {},
   "outputs": [
    {
     "name": "stdout",
     "output_type": "stream",
     "text": [
      "**********\n",
      "**********\n",
      "**********\n",
      "**********\n",
      "**********\n"
     ]
    }
   ],
   "source": [
    "#Question2\n",
    "\n",
    "for i in range(5):\n",
    "    print(\"**********\")"
   ]
  },
  {
   "cell_type": "code",
   "execution_count": 3,
   "id": "d9af3119",
   "metadata": {},
   "outputs": [
    {
     "name": "stdout",
     "output_type": "stream",
     "text": [
      "1\n",
      "2\n",
      "3\n",
      "4\n",
      "5\n",
      "6\n"
     ]
    }
   ],
   "source": [
    "#Question3(a)\n",
    "\n",
    "for i in range(1,7):\n",
    "    print(i)"
   ]
  },
  {
   "cell_type": "code",
   "execution_count": 20,
   "id": "ae9ac668",
   "metadata": {},
   "outputs": [
    {
     "name": "stdout",
     "output_type": "stream",
     "text": [
      "2\n",
      "4\n",
      "6\n",
      "8\n",
      "10\n",
      "12\n"
     ]
    }
   ],
   "source": [
    "#Question3(b)\n",
    "\n",
    "for i in range(1,7):\n",
    "    if i % 2 == 0:\n",
    "        print(i)\n",
    "print(8)\n",
    "print(10)\n",
    "print(12)"
   ]
  },
  {
   "cell_type": "code",
   "execution_count": 4,
   "id": "cb63fbd0",
   "metadata": {},
   "outputs": [
    {
     "name": "stdout",
     "output_type": "stream",
     "text": [
      "4\n",
      "75\n",
      "90\n",
      "105\n",
      "120\n",
      "135\n"
     ]
    }
   ],
   "source": [
    "#Question3(c)\n",
    "y = 4\n",
    "print(y)\n",
    "for x in range(1,6):\n",
    "        print(15 * (x + 4))"
   ]
  },
  {
   "cell_type": "code",
   "execution_count": 6,
   "id": "553679c3",
   "metadata": {},
   "outputs": [
    {
     "name": "stdout",
     "output_type": "stream",
     "text": [
      "30\n",
      "20\n",
      "10\n",
      "0\n",
      "-10\n",
      "-20\n",
      "-30\n"
     ]
    }
   ],
   "source": [
    "#Question 3(d)\n",
    "print(30)\n",
    "for a in range(1, 7):\n",
    "    print(30 - (10 * a))"
   ]
  },
  {
   "cell_type": "code",
   "execution_count": 7,
   "id": "1cedb352",
   "metadata": {},
   "outputs": [
    {
     "name": "stdout",
     "output_type": "stream",
     "text": [
      "-7\n",
      "-3\n",
      "1\n",
      "5\n",
      "9\n",
      "13\n"
     ]
    }
   ],
   "source": [
    "#Question3(e)\n",
    "\n",
    "for y in range(1, 7):\n",
    "    result = ((4 * y) - 11)\n",
    "    print(result)"
   ]
  },
  {
   "cell_type": "code",
   "execution_count": 8,
   "id": "4e027555",
   "metadata": {},
   "outputs": [
    {
     "name": "stdout",
     "output_type": "stream",
     "text": [
      "97\n",
      "94\n",
      "91\n",
      "88\n",
      "85\n",
      "82\n"
     ]
    }
   ],
   "source": [
    "#Question3(f)\n",
    "\n",
    "for f in range(1, 7):\n",
    "    print(100 - (3 * f)) \n",
    "    "
   ]
  },
  {
   "cell_type": "code",
   "execution_count": 9,
   "id": "3acc36f6",
   "metadata": {},
   "outputs": [
    {
     "name": "stdout",
     "output_type": "stream",
     "text": [
      "-4\n",
      "14\n",
      "32\n",
      "50\n",
      "68\n",
      "86\n"
     ]
    }
   ],
   "source": [
    "#Question 3(g)\n",
    "\n",
    "for i in range(1, 7):\n",
    "    result = -4 + (i - 1) * 18\n",
    "    print(result)"
   ]
  },
  {
   "cell_type": "code",
   "execution_count": 10,
   "id": "d7c661be",
   "metadata": {},
   "outputs": [
    {
     "name": "stdout",
     "output_type": "stream",
     "text": [
      "Enter number of rows: 7\n",
      "1 \n",
      "2 2 \n",
      "3 3 3 \n",
      "4 4 4 4 \n",
      "5 5 5 5 5 \n",
      "6 6 6 6 6 6 \n",
      "7 7 7 7 7 7 7 \n"
     ]
    }
   ],
   "source": [
    "#Question4\n",
    "\n",
    "n = int(input(\"Enter number of rows: \"))\n",
    "\n",
    "for i in range(1,n+1):\n",
    "    for j in range(1,i+1):\n",
    "        print(i,end=\" \")\n",
    "    print()\n",
    "    "
   ]
  },
  {
   "cell_type": "code",
   "execution_count": 16,
   "id": "5305a732",
   "metadata": {},
   "outputs": [
    {
     "name": "stdout",
     "output_type": "stream",
     "text": [
      "33.0\n",
      "50.0\n"
     ]
    }
   ],
   "source": [
    "#Question5\n",
    "\n",
    "def pay(salary, hours_worked):\n",
    "    normal_hrs = 8\n",
    "    overtime_salary = 1.5\n",
    "\n",
    "    if hours_worked <= normal_hrs:\n",
    "        total_pay = salary * hours_worked\n",
    "    else:\n",
    "        normal_pay = salary * normal_hrs\n",
    "        overtime_hours = hours_worked - normal_hrs\n",
    "        overtime_pay = salary * overtime_salary * overtime_hours\n",
    "        total_pay = normal_pay + overtime_pay\n",
    "\n",
    "    return total_pay\n",
    "\n",
    "print(pay(5.50, 6))    \n",
    "print(pay(4.00, 11))   "
   ]
  },
  {
   "cell_type": "code",
   "execution_count": 27,
   "id": "48f4d1c6",
   "metadata": {},
   "outputs": [
    {
     "name": "stdout",
     "output_type": "stream",
     "text": [
      "Enter Radius:2\n",
      "The area of the circle is: 12.566370614359172\n"
     ]
    }
   ],
   "source": [
    "#Question6\n",
    "\n",
    "import math\n",
    "\n",
    "def area_of_circle(r):\n",
    "    return math.pi*r*r\n",
    "    \n",
    "r = float(input(\"Enter Radius:\"))\n",
    "print(\"The area of the circle is:\", area_of_circle(r))"
   ]
  },
  {
   "cell_type": "code",
   "execution_count": 35,
   "id": "dbabd47b",
   "metadata": {},
   "outputs": [
    {
     "name": "stdout",
     "output_type": "stream",
     "text": [
      "Low? 1\n",
      "High? 1001\n",
      "sum = 500500\n"
     ]
    }
   ],
   "source": [
    "#Question7\n",
    "\n",
    "low  = int(input(\"Low? \"))\n",
    "high = int(input(\"High? \"))\n",
    "sum = 0\n",
    "\n",
    "for i in range(low,high):\n",
    "    sum += i\n",
    "    \n",
    "print(\"sum =\", sum)"
   ]
  },
  {
   "cell_type": "code",
   "execution_count": 36,
   "id": "0fc10a3d",
   "metadata": {},
   "outputs": [
    {
     "name": "stdout",
     "output_type": "stream",
     "text": [
      "Enter a number: 1\n",
      "Enter a number: 5\n",
      "Enter a number: 4\n",
      "Enter a number: 10\n",
      "Enter a number: 0\n",
      "The sum for numbers entered: 20.0\n"
     ]
    }
   ],
   "source": [
    "#Question8\n",
    "\n",
    "total = 0\n",
    "\n",
    "while True:\n",
    "    number = float(input(\"Enter a number: \"))\n",
    "    if number == 0:\n",
    "        break\n",
    "    total += number\n",
    "    \n",
    "print(\"The sum for numbers entered:\", total)"
   ]
  },
  {
   "cell_type": "code",
   "execution_count": 37,
   "id": "0c925795",
   "metadata": {},
   "outputs": [
    {
     "name": "stdout",
     "output_type": "stream",
     "text": [
      "Enter a number: 1\n",
      "Enter a number: 5\n",
      "Enter a number: 4\n",
      "Enter a number: 10\n",
      "Enter a number: 0\n",
      "Enter a number: -1\n",
      "The sum for numbers entered: 20.0\n"
     ]
    }
   ],
   "source": [
    "#Question9\n",
    "\n",
    "total = 0\n",
    "\n",
    "while True:\n",
    "    number = float(input(\"Enter a number: \"))\n",
    "    if number == -1:\n",
    "        break\n",
    "    total += number\n",
    "    \n",
    "print(\"The sum for numbers entered:\", total)"
   ]
  },
  {
   "cell_type": "code",
   "execution_count": 40,
   "id": "c2318199",
   "metadata": {},
   "outputs": [
    {
     "name": "stdout",
     "output_type": "stream",
     "text": [
      "Enter the string: Hello\n",
      "Enter the number of repetitions:3\n",
      "HelloHelloHello\n"
     ]
    }
   ],
   "source": [
    "#Question10\n",
    "\n",
    "def repl(string, repetitions):\n",
    "    if repetitions <= 0:\n",
    "        return \"\"\n",
    "    else:\n",
    "        return string * repetitions\n",
    "\n",
    "string = (input(\"Enter the string: \"))\n",
    "number = int(input(\"Enter the number of repetitions:\"))\n",
    "result = repl(string, number)\n",
    "print(result)"
   ]
  },
  {
   "cell_type": "code",
   "execution_count": 43,
   "id": "c629d667",
   "metadata": {},
   "outputs": [
    {
     "name": "stdout",
     "output_type": "stream",
     "text": [
      "Enter the first integer: 5\n",
      "Enter the second integer: 10\n",
      "5 6 7 8 9 10 "
     ]
    }
   ],
   "source": [
    "#Question11\n",
    "\n",
    "def printRange(no1, no2):\n",
    "    if no1 < no2:\n",
    "        \n",
    "        for i in range(no1, no2 + 1):\n",
    "            print(i, end=' ')\n",
    "    elif no1 > no2:\n",
    "        \n",
    "        for i in range(no1, no2 - 1, -1):\n",
    "            print(i, end=' ')\n",
    "    else:\n",
    "        \n",
    "        print(no1)\n",
    "\n",
    "no1 = int(input(\"Enter the first integer: \"))\n",
    "no2 = int(input(\"Enter the second integer: \"))\n",
    "\n",
    "printRange(no1, no2)"
   ]
  },
  {
   "cell_type": "code",
   "execution_count": 4,
   "id": "f08592e4",
   "metadata": {},
   "outputs": [
    {
     "name": "stdout",
     "output_type": "stream",
     "text": [
      "How many numbers do you want to enter? 4\n",
      "Number 1: 11\n",
      "Number 2: 20\n",
      "Number 3: 2\n",
      "Number 4: 17\n",
      "Smallest = 2.0   Largest = 20.0\n"
     ]
    }
   ],
   "source": [
    "#Question 12\n",
    "\n",
    "def smallestLargest():\n",
    "    \n",
    "    numbers = int(input(\"How many numbers do you want to enter? \"))\n",
    "    \n",
    "    while numbers <= 0:\n",
    "        print(\"Please enter a valid number greater than 0.\")\n",
    "        numbers = int(input(\"How many numbers do you want to enter? \"))\n",
    "    \n",
    "    \n",
    "    small = float('inf')  \n",
    "    large = float('-inf')  \n",
    "    \n",
    "    \n",
    "    for i in range(1,numbers + 1):\n",
    "        num = float(input(f\"Number {i}: \"))\n",
    "        \n",
    "        \n",
    "        small = min(small, num)\n",
    "        large = max(large, num)\n",
    "    \n",
    "    \n",
    "    print(f\"Smallest = {small}   Largest = {large}\")\n",
    "\n",
    "\n",
    "smallestLargest()\n"
   ]
  },
  {
   "cell_type": "code",
   "execution_count": 18,
   "id": "227cb5e5",
   "metadata": {},
   "outputs": [
    {
     "name": "stdout",
     "output_type": "stream",
     "text": [
      "Enter a nonnegative number (or a negative number to stop): 10\n",
      "Enter a nonnegative number (or a negative number to stop): 20\n",
      "Enter a nonnegative number (or a negative number to stop): 30\n",
      "Enter a nonnegative number (or a negative number to stop): 40\n",
      "Enter a nonnegative number (or a negative number to stop): 50\n",
      "Enter a nonnegative number (or a negative number to stop): -8\n",
      "No nonnegative numbers entered.\n"
     ]
    }
   ],
   "source": [
    "#Question 13\n",
    "\n",
    "def printAverage():\n",
    "    total = 0\n",
    "    count = 0\n",
    "\n",
    "    while True:\n",
    "        user_input = float(input(\"Enter a nonnegative number (or a negative number to stop): \"))\n",
    "        \n",
    "        if user_input < 0:\n",
    "            break\n",
    "            \n",
    "            total += user_input\n",
    "            count += 1\n",
    "\n",
    "    if count > 0:\n",
    "        average = total / count\n",
    "        print(f\"The average of the nonnegative numbers entered is:\" , average)\n",
    "    else:\n",
    "        print(\"No nonnegative numbers entered.\")\n",
    "\n",
    "printAverage()\n",
    "\n"
   ]
  },
  {
   "cell_type": "code",
   "execution_count": 22,
   "id": "127b5eca",
   "metadata": {},
   "outputs": [
    {
     "name": "stdout",
     "output_type": "stream",
     "text": [
      "Enter an integer: 10\n",
      "Enter another integer: 20\n",
      "Enter one more integer: 30\n",
      "Number of unique integers: 3\n"
     ]
    }
   ],
   "source": [
    "#Question 14\n",
    "\n",
    "def Unique_num(a, b, c):\n",
    "    unique_numbers = set([a, b, c])\n",
    "    return len(unique_numbers)\n",
    "\n",
    "# Prompt the user for three integers\n",
    "a = int(input(\"Enter an integer: \"))\n",
    "b = int(input(\"Enter another integer: \"))\n",
    "c = int(input(\"Enter one more integer: \"))\n",
    "\n",
    "# Call the numUnique function with user inputs\n",
    "result = Unique_num(a, b, c)\n",
    "print(\"Number of unique integers:\", result)\n"
   ]
  },
  {
   "cell_type": "code",
   "execution_count": 30,
   "id": "e03ed116",
   "metadata": {},
   "outputs": [
    {
     "name": "stdout",
     "output_type": "stream",
     "text": [
      "Dice 1: 5, Dice 2: 6, Total: 11\n",
      "Dice 1: 4, Dice 2: 4, Total: 8\n",
      "Dice 1: 2, Dice 2: 1, Total: 3\n",
      "Dice 1: 6, Dice 2: 2, Total: 8\n",
      "Dice 1: 2, Dice 2: 1, Total: 3\n",
      "Dice 1: 1, Dice 2: 5, Total: 6\n",
      "Dice 1: 5, Dice 2: 5, Total: 10\n",
      "Dice 1: 6, Dice 2: 2, Total: 8\n",
      "Dice 1: 1, Dice 2: 1, Total: 2\n",
      "Dice 1: 4, Dice 2: 2, Total: 6\n",
      "Dice 1: 4, Dice 2: 3, Total: 7\n",
      "You won after 11 tries\n"
     ]
    }
   ],
   "source": [
    "#Question 15\n",
    "import random\n",
    "\n",
    "def roll_dice():\n",
    "    dice1 = random.randint(1, 6)\n",
    "    dice2 = random.randint(1, 6)\n",
    "    return dice1, dice2\n",
    "\n",
    "def simulate_rolling():\n",
    "    count = 0\n",
    "    \n",
    "    while True:\n",
    "        dice1, dice2 = roll_dice()\n",
    "        total = dice1 + dice2\n",
    "        print(f\"Dice 1: {dice1}, Dice 2: {dice2}, Total: {total}\")\n",
    "        \n",
    "        if total == 7:\n",
    "            break\n",
    "            \n",
    "        count += 1\n",
    "\n",
    "    print(f\"You won after {count + 1} tries\")\n",
    "\n",
    "simulate_rolling()"
   ]
  },
  {
   "cell_type": "code",
   "execution_count": null,
   "id": "3a35e0bc",
   "metadata": {},
   "outputs": [],
   "source": []
  }
 ],
 "metadata": {
  "kernelspec": {
   "display_name": "Python 3 (ipykernel)",
   "language": "python",
   "name": "python3"
  },
  "language_info": {
   "codemirror_mode": {
    "name": "ipython",
    "version": 3
   },
   "file_extension": ".py",
   "mimetype": "text/x-python",
   "name": "python",
   "nbconvert_exporter": "python",
   "pygments_lexer": "ipython3",
   "version": "3.11.5"
  }
 },
 "nbformat": 4,
 "nbformat_minor": 5
}
